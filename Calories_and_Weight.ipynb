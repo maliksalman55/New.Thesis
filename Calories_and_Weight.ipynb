{
  "nbformat": 4,
  "nbformat_minor": 0,
  "metadata": {
    "colab": {
      "provenance": [],
      "gpuType": "T4",
      "authorship_tag": "ABX9TyO3ujZW2Pc61GChVlMoIT+i",
      "include_colab_link": true
    },
    "kernelspec": {
      "name": "python3",
      "display_name": "Python 3"
    },
    "language_info": {
      "name": "python"
    },
    "accelerator": "GPU"
  },
  "cells": [
    {
      "cell_type": "markdown",
      "metadata": {
        "id": "view-in-github",
        "colab_type": "text"
      },
      "source": [
        "<a href=\"https://colab.research.google.com/github/maliksalman55/Thesis/blob/main/Calories_and_Weight.ipynb\" target=\"_parent\"><img src=\"https://colab.research.google.com/assets/colab-badge.svg\" alt=\"Open In Colab\"/></a>"
      ]
    },
    {
      "cell_type": "code",
      "execution_count": 26,
      "metadata": {
        "id": "0uVhb5S8mfVV"
      },
      "outputs": [],
      "source": [
        "import numpy as np\n",
        "import tensorflow as tf\n",
        "from google.colab import drive\n"
      ]
    },
    {
      "cell_type": "code",
      "source": [
        "drive.mount('/content/drive')\n"
      ],
      "metadata": {
        "colab": {
          "base_uri": "https://localhost:8080/"
        },
        "id": "X31E6osOnADg",
        "outputId": "aee6df36-717d-422c-ed9f-523e5599d9ed"
      },
      "execution_count": 27,
      "outputs": [
        {
          "output_type": "stream",
          "name": "stdout",
          "text": [
            "Drive already mounted at /content/drive; to attempt to forcibly remount, call drive.mount(\"/content/drive\", force_remount=True).\n"
          ]
        }
      ]
    },
    {
      "cell_type": "code",
      "source": [
        "# Load the species model\n",
        "species_model = tf.keras.models.load_model('/content/drive/MyDrive/Project/Models/FinalVgg19_model.keras')\n"
      ],
      "metadata": {
        "id": "nDu4JCT9nKs1"
      },
      "execution_count": 28,
      "outputs": []
    },
    {
      "cell_type": "code",
      "source": [
        "# Load the fish weight prediction model\n",
        "weight_model = tf.keras.models.load_model('/content/drive/MyDrive/Project/Models/weight79_model.keras')\n"
      ],
      "metadata": {
        "id": "iAuMTXwenKpF"
      },
      "execution_count": 29,
      "outputs": []
    },
    {
      "cell_type": "code",
      "source": [
        "# Function to preprocess input image for species classification\n",
        "def preprocess_species_image(image_path, target_size=(224, 224)):\n",
        "    img = tf.keras.preprocessing.image.load_img(image_path, target_size=target_size)\n",
        "    img = tf.keras.preprocessing.image.img_to_array(img)\n",
        "    img = np.expand_dims(img, axis=0)\n",
        "    img = img / 255.0  # Normalize pixel values\n",
        "    return img"
      ],
      "metadata": {
        "id": "ZcSaw-hz9Uj4"
      },
      "execution_count": 31,
      "outputs": []
    },
    {
      "cell_type": "code",
      "source": [
        "# Function to preprocess input image for weight prediction\n",
        "def preprocess_weight_image(image_path, target_size=(224, 224)):\n",
        "    img = tf.keras.preprocessing.image.load_img(image_path, target_size=target_size)\n",
        "    img = tf.keras.preprocessing.image.img_to_array(img)\n",
        "    img = np.expand_dims(img, axis=0)\n",
        "    img = img / 255.0  # Normalize pixel values\n",
        "    return img"
      ],
      "metadata": {
        "id": "HafpwuVb9Uao"
      },
      "execution_count": 32,
      "outputs": []
    },
    {
      "cell_type": "code",
      "source": [
        "# Function to predict species\n",
        "def predict_species(species_model, image_path):\n",
        "    # Preprocess the input image for species classification\n",
        "    input_img = preprocess_species_image(image_path)\n",
        "\n",
        "    # Make predictions using the species model\n",
        "    species_classes = [\"Bangus\", \"Big Head Carp\", \"Black Spotted Barb\", \"Catfish\", \"Climbing Perch\", \"Fourfinger Threadfin\", \"Freshwater Eel\", \"Glass Perchlet\", \"Goby\", \"Gold Fish\", \"Gourami\", \"Grass Carp\", \"Green Spotted Puffer\", \"Indian Carp\", \"Indo-Pacific Tarpon\", \"Jaguar Gapote\", \"Janitor Fish\", \"Knifefish\", \"Long-Snouted Pipefish\", \"Mosquito Fish\", \"Mudfish\", \"Mullet\", \"Pangasius\", \"Perch\", \"Scat Fish\", \"Silver Barb\", \"Silver Carp\", \"Silver Perch\", \"Snakehead\", \"Tenpounder\", \"Tilapia\"]  # List of species classes\n",
        "    species_probabilities = species_model.predict(input_img)[0]\n",
        "    predicted_species = species_classes[np.argmax(species_probabilities)]\n",
        "\n",
        "    return predicted_species"
      ],
      "metadata": {
        "id": "RQDnmLHK9UPL"
      },
      "execution_count": 64,
      "outputs": []
    },
    {
      "cell_type": "code",
      "source": [
        "# Function to predict fish weight\n",
        "def predict_fish_weight_pounds(weight_model, weight_image_path):\n",
        "    # Preprocess the input image for weight prediction\n",
        "    input_img = preprocess_weight_image(weight_image_path)\n",
        "\n",
        "    # Make predictions using the weight prediction model\n",
        "    predicted_weight_pounds = weight_model.predict(input_img)\n",
        "\n",
        "    return predicted_weight_pounds[0][0]  # Access the predicted weight value in pounds\n"
      ],
      "metadata": {
        "id": "zNacDNtl9UMQ"
      },
      "execution_count": 34,
      "outputs": []
    },
    {
      "cell_type": "code",
      "source": [
        "# Define a dictionary of calorie values per gram for each species\n",
        "calorie_per_gram = {\n",
        "    \"Bangus\": 2,\n",
        "    \"Big Head Carp\": 1.3,\n",
        "    \"Black Spotted Barb\": 1.5,\n",
        "        \"Catfish\": 1.2,\n",
        "        \"Climbing Perch\": 1.3,\n",
        "        \"Fourfinger Threadfin\": 1.35,\n",
        "        \"Freshwater Eel\": 2.5,\n",
        "        \"Glass Perchlet\": 0.9,\n",
        "        \"Goby\": 1,\n",
        "        \"Gold Fish\": 0,\n",
        "        \"Gourami\": 0.8,\n",
        "        \"Grass Carp\": 1.1,\n",
        "        \"Green Spotted Puffer\": 0,\n",
        "        \"Indian Carp\": 1.2,\n",
        "        \"Indo-Pacific Tarpon\": 0.9,\n",
        "        \"Jaguar Gapote\": 1.2,\n",
        "        \"FJanitor Fish\": 0,\n",
        "        \"Knifefish\": 1,\n",
        "        \"Long-Snouted Pipefish\": 0.7,\n",
        "        \"Mosquito Fish\": 0,\n",
        "        \"Mudfish\": 0.9,\n",
        "        \"Mullet\": 1.5,\n",
        "        \"Pangasius\": 1.05,\n",
        "        \"Perch\": 1.05,\n",
        "        \"Scat Fish\": 1.1,\n",
        "        \"Silver Barb\": 1.1,\n",
        "        \"Silver Carp\": 0.9,\n",
        "        \"Silver Perch\": 1.1,\n",
        "        \"Snakehead\": 0.9,\n",
        "        \"Tenpounder\": 1.0,\n",
        "        \"Tilapia\": 1.05}"
      ],
      "metadata": {
        "id": "B6Kjsg6o9kNH"
      },
      "execution_count": 35,
      "outputs": []
    },
    {
      "cell_type": "code",
      "source": [
        "# Input image file paths\n",
        "species_image_path = '/content/Glass Perchlet 5.jpg'\n",
        "weight_image_path = '/content/Glass Perchlet 5.jpg'\n"
      ],
      "metadata": {
        "id": "Ipe5pcp99kKL"
      },
      "execution_count": 84,
      "outputs": []
    },
    {
      "cell_type": "code",
      "source": [
        "# Predicting the species of the fish\n",
        "predicted_species = predict_species(species_model, species_image_path)\n"
      ],
      "metadata": {
        "colab": {
          "base_uri": "https://localhost:8080/"
        },
        "id": "Ge-lGxSd92dW",
        "outputId": "596c6066-3dbd-49a1-83e0-501ab5851716"
      },
      "execution_count": 85,
      "outputs": [
        {
          "output_type": "stream",
          "name": "stdout",
          "text": [
            "1/1 [==============================] - 1s 605ms/step\n"
          ]
        }
      ]
    },
    {
      "cell_type": "code",
      "source": [
        "# Predicting the weight of the fish in pounds\n",
        "predicted_weight_pounds = predict_fish_weight_pounds(weight_model, weight_image_path)\n"
      ],
      "metadata": {
        "colab": {
          "base_uri": "https://localhost:8080/"
        },
        "id": "yz4BFKd292YT",
        "outputId": "d199e428-e698-417a-d8b6-af94c50ad536"
      },
      "execution_count": 86,
      "outputs": [
        {
          "output_type": "stream",
          "name": "stdout",
          "text": [
            "1/1 [==============================] - 0s 286ms/step\n"
          ]
        }
      ]
    },
    {
      "cell_type": "code",
      "source": [
        "# Convert the predicted weight from pounds to grams\n",
        "predicted_weight_grams = predicted_weight_pounds * 453.592  # 1 pound is approximately 453.592 grams\n"
      ],
      "metadata": {
        "id": "gwjYdnh29-gt"
      },
      "execution_count": 87,
      "outputs": []
    },
    {
      "cell_type": "code",
      "source": [
        "# Calculate estimated calories based on species and weight in grams\n",
        "calorie_estimation = predicted_weight_grams * calorie_per_gram.get(predicted_species, 0)  # Use 0 calories if species not found\n"
      ],
      "metadata": {
        "id": "H0O2iolT9-eW"
      },
      "execution_count": 88,
      "outputs": []
    },
    {
      "cell_type": "code",
      "source": [
        "# Convert the predicted weight from grams to kilograms\n",
        "predicted_weight_kg = predicted_weight_grams / 1000  # 1 kilogram is 1000 grams\n"
      ],
      "metadata": {
        "id": "IgEthwuf9-bg"
      },
      "execution_count": 89,
      "outputs": []
    },
    {
      "cell_type": "code",
      "source": [
        "# Print the estimated species, weight in grams, weight in kilograms, and calories\n",
        "print(\"Fish Species:\", predicted_species)"
      ],
      "metadata": {
        "colab": {
          "base_uri": "https://localhost:8080/"
        },
        "id": "anyXrNWd-JmI",
        "outputId": "388127ae-9360-4b23-e8aa-0daf75c9c833"
      },
      "execution_count": 90,
      "outputs": [
        {
          "output_type": "stream",
          "name": "stdout",
          "text": [
            "Fish Species: Glass Perchlet\n"
          ]
        }
      ]
    },
    {
      "cell_type": "code",
      "source": [
        "print(\"Predicted Weight (grams):\", predicted_weight_grams)"
      ],
      "metadata": {
        "colab": {
          "base_uri": "https://localhost:8080/"
        },
        "id": "qAsw7OGb-JgB",
        "outputId": "4c499ac5-455b-4831-c4cd-a773eb135496"
      },
      "execution_count": 91,
      "outputs": [
        {
          "output_type": "stream",
          "name": "stdout",
          "text": [
            "Predicted Weight (grams): 164.85622381544113\n"
          ]
        }
      ]
    },
    {
      "cell_type": "code",
      "source": [
        "print(\"Predicted Weight (kilograms):\", predicted_weight_kg)\n"
      ],
      "metadata": {
        "colab": {
          "base_uri": "https://localhost:8080/"
        },
        "id": "MCrcI3cW-UwP",
        "outputId": "0f5b007f-0087-4ebc-cafc-1e7453929413"
      },
      "execution_count": 92,
      "outputs": [
        {
          "output_type": "stream",
          "name": "stdout",
          "text": [
            "Predicted Weight (kilograms): 0.16485622381544113\n"
          ]
        }
      ]
    },
    {
      "cell_type": "code",
      "source": [
        "\n",
        "print(\"Estimated Calories:\", calorie_estimation)"
      ],
      "metadata": {
        "colab": {
          "base_uri": "https://localhost:8080/"
        },
        "id": "xgwVVaDV-UtY",
        "outputId": "d6a75b55-47f2-4049-8405-cb190dc33d4c"
      },
      "execution_count": 93,
      "outputs": [
        {
          "output_type": "stream",
          "name": "stdout",
          "text": [
            "Estimated Calories: 148.370601433897\n"
          ]
        }
      ]
    },
    {
      "cell_type": "code",
      "source": [
        "\n",
        "# Print the estimated species, weight in grams, weight in kilograms, and calories\n",
        "print(\"Fish Species:\", predicted_species)\n",
        "print(\"Predicted Weight (grams):\", predicted_weight_grams)\n",
        "print(\"Predicted Weight (kilograms):\", predicted_weight_kg)\n",
        "print(\"Estimated Calories:\", calorie_estimation)"
      ],
      "metadata": {
        "colab": {
          "base_uri": "https://localhost:8080/"
        },
        "id": "8SYxm_Ce9Fab",
        "outputId": "1a891bc9-ae69-4ae4-aa54-7fd211144649"
      },
      "execution_count": 94,
      "outputs": [
        {
          "output_type": "stream",
          "name": "stdout",
          "text": [
            "Fish Species: Glass Perchlet\n",
            "Predicted Weight (grams): 164.85622381544113\n",
            "Predicted Weight (kilograms): 0.16485622381544113\n",
            "Estimated Calories: 148.370601433897\n"
          ]
        }
      ]
    }
  ]
}