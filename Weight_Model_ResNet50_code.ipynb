{
  "nbformat": 4,
  "nbformat_minor": 0,
  "metadata": {
    "colab": {
      "provenance": [],
      "mount_file_id": "15ZQh0gNpsjffmGQBBSdrPJktzaJOuJ4P",
      "authorship_tag": "ABX9TyPPolYH4W6JcwoYf0myWwKY",
      "include_colab_link": true
    },
    "kernelspec": {
      "name": "python3",
      "display_name": "Python 3"
    },
    "language_info": {
      "name": "python"
    }
  },
  "cells": [
    {
      "cell_type": "markdown",
      "metadata": {
        "id": "view-in-github",
        "colab_type": "text"
      },
      "source": [
        "<a href=\"https://colab.research.google.com/github/maliksalman55/Thesis/blob/main/Weight_Model_ResNet50_code.ipynb\" target=\"_parent\"><img src=\"https://colab.research.google.com/assets/colab-badge.svg\" alt=\"Open In Colab\"/></a>"
      ]
    },
    {
      "cell_type": "code",
      "source": [
        "import numpy as np\n",
        "import tensorflow as tf\n",
        "import matplotlib.pyplot as plt\n",
        "from google.colab import drive\n",
        "drive.mount('/content/drive')\n",
        "from tensorflow.keras.preprocessing.image import ImageDataGenerator\n",
        "data_dir = '/content/drive/MyDrive/Project/weight.Dataset'\n",
        "\n",
        "# Split the data into training (80%) and validation (20%) sets\n",
        "training_set = tf.keras.utils.image_dataset_from_directory(\n",
        "    data_dir,\n",
        "    labels=\"inferred\",\n",
        "    label_mode=\"categorical\",\n",
        "    class_names=None,\n",
        "    color_mode=\"rgb\",\n",
        "    batch_size=32,\n",
        "    image_size=(224, 224),\n",
        "    shuffle=True,\n",
        "    seed=42,\n",
        "    validation_split=0.2,  # 20% of the data will be used for validation\n",
        "    subset=\"training\",    # Specify \"training\" for the training set\n",
        "    interpolation=\"bilinear\",\n",
        "    follow_links=False,\n",
        "    crop_to_aspect_ratio=False\n",
        ")\n",
        "train_data_gen = ImageDataGenerator(\n",
        "    rescale=1./255,\n",
        "    rotation_range=20,  # Randomly rotate images by up to 20 degrees\n",
        "    width_shift_range=0.2,  # Randomly shift images horizontally\n",
        "    height_shift_range=0.2,  # Randomly shift images vertically\n",
        "    horizontal_flip=True,  # Randomly flip images horizontally\n",
        "    zoom_range=0.2  # Randomly zoom into images\n",
        ")\n",
        "# Validation set (remaining 20%)\n",
        "validation_set = tf.keras.utils.image_dataset_from_directory(\n",
        "    data_dir,\n",
        "    labels=\"inferred\",\n",
        "    label_mode=\"categorical\",\n",
        "    class_names=None,\n",
        "    color_mode=\"rgb\",\n",
        "    batch_size=10,\n",
        "    image_size=(224, 224),\n",
        "    shuffle=False,\n",
        "    seed=42,\n",
        "    validation_split=0.2,  # 20% of the data will be used for validation\n",
        "    subset=\"validation\",    # Specify \"validation\" for the validation set\n",
        "    interpolation=\"bilinear\",\n",
        "    follow_links=False,\n",
        "    crop_to_aspect_ratio=False\n",
        ")\n",
        "val_data_gen = ImageDataGenerator(\n",
        "    rescale=1./255,\n",
        "    rotation_range=20,  # Randomly rotate images by up to 20 degrees\n",
        "    width_shift_range=0.2,  # Randomly shift images horizontally\n",
        "    height_shift_range=0.2,  # Randomly shift images vertically\n",
        "    horizontal_flip=True,  # Randomly flip images horizontally\n",
        "    zoom_range=0.2  # Randomly zoom into images\n",
        ")\n",
        "print(\"Number of classes in the training set:\", len(training_set.class_names))\n",
        "print(\"Number of classes in the validation set:\", len(validation_set.class_names))\n"
      ],
      "metadata": {
        "colab": {
          "base_uri": "https://localhost:8080/"
        },
        "id": "g5MNmcJ8Yy3C",
        "outputId": "101e3922-1610-4673-d45f-b0248c35a2b6"
      },
      "execution_count": null,
      "outputs": [
        {
          "output_type": "stream",
          "name": "stdout",
          "text": [
            "Drive already mounted at /content/drive; to attempt to forcibly remount, call drive.mount(\"/content/drive\", force_remount=True).\n",
            "Found 894 files belonging to 160 classes.\n",
            "Using 716 files for training.\n",
            "Found 894 files belonging to 160 classes.\n",
            "Using 178 files for validation.\n",
            "Number of classes in the training set: 160\n",
            "Number of classes in the validation set: 160\n"
          ]
        }
      ]
    },
    {
      "cell_type": "code",
      "source": [
        "from tensorflow.keras.applications import ResNet50\n",
        "from tensorflow.keras.models import Sequential\n",
        "from tensorflow.keras.layers import GlobalAveragePooling2D, Dense, BatchNormalization, Dropout\n",
        "from tensorflow.keras.optimizers import Adam\n",
        "from tensorflow.keras.preprocessing.image import ImageDataGenerator\n",
        "\n",
        "# Load the ResNet50 base model\n",
        "base_model = ResNet50(weights='imagenet', include_top=False, input_shape=(224, 224, 3))\n",
        "\n",
        "model = Sequential()\n",
        "\n",
        "# Add the ResNet50 base model\n",
        "model.add(base_model)\n",
        "\n",
        "# Add Global Average Pooling layer\n",
        "model.add(GlobalAveragePooling2D())\n",
        "\n",
        "# Add a fully connected layer with batch normalization and dropout\n",
        "model.add(Dense(512, activation='relu'))\n",
        "model.add(BatchNormalization())\n",
        "model.add(Dropout(0.5))\n",
        "\n",
        "# Add the output layer (adjust the number of units for your dataset)\n",
        "model.add(Dense(160, activation='softmax'))\n",
        "\n",
        "# Optionally, you can freeze the ResNet50 layers\n",
        "for layer in base_model.layers:\n",
        "    layer.trainable = False\n",
        "\n",
        "# Implement data augmentation\n",
        "data_augmentation = ImageDataGenerator(\n",
        "    rotation_range=20,\n",
        "    width_shift_range=0.2,\n",
        "    height_shift_range=0.2,\n",
        "    horizontal_flip=True,\n",
        "    zoom_range=0.2,\n",
        "    brightness_range=[0.8, 1.2])\n",
        "\n",
        "# Compile the model with an Adam optimizer and a learning rate schedule\n",
        "optimizer = Adam(learning_rate=0.001)\n",
        "model.compile(optimizer=optimizer, loss='categorical_crossentropy', metrics=['accuracy'])\n",
        "\n",
        "# Print the model summary\n",
        "model.summary()"
      ],
      "metadata": {
        "colab": {
          "base_uri": "https://localhost:8080/"
        },
        "id": "E4wIYBduZOj5",
        "outputId": "6b3eabf9-5a17-4f01-cdcb-236a580c0dbf"
      },
      "execution_count": null,
      "outputs": [
        {
          "output_type": "stream",
          "name": "stdout",
          "text": [
            "Downloading data from https://storage.googleapis.com/tensorflow/keras-applications/resnet/resnet50_weights_tf_dim_ordering_tf_kernels_notop.h5\n",
            "94765736/94765736 [==============================] - 1s 0us/step\n",
            "Model: \"sequential\"\n",
            "_________________________________________________________________\n",
            " Layer (type)                Output Shape              Param #   \n",
            "=================================================================\n",
            " resnet50 (Functional)       (None, 7, 7, 2048)        23587712  \n",
            "                                                                 \n",
            " global_average_pooling2d (  (None, 2048)              0         \n",
            " GlobalAveragePooling2D)                                         \n",
            "                                                                 \n",
            " dense (Dense)               (None, 512)               1049088   \n",
            "                                                                 \n",
            " batch_normalization (Batch  (None, 512)               2048      \n",
            " Normalization)                                                  \n",
            "                                                                 \n",
            " dropout (Dropout)           (None, 512)               0         \n",
            "                                                                 \n",
            " dense_1 (Dense)             (None, 160)               82080     \n",
            "                                                                 \n",
            "=================================================================\n",
            "Total params: 24720928 (94.30 MB)\n",
            "Trainable params: 1132192 (4.32 MB)\n",
            "Non-trainable params: 23588736 (89.98 MB)\n",
            "_________________________________________________________________\n"
          ]
        }
      ]
    },
    {
      "cell_type": "code",
      "source": [
        "from tensorflow.keras.callbacks import EarlyStopping\n",
        "\n",
        "# Define the EarlyStopping callback\n",
        "early_stopping = EarlyStopping(\n",
        "    monitor='val_loss',  # Metric to monitor (e.g., validation loss)\n",
        "    patience=5,          # Number of epochs with no improvement before stopping\n",
        "    restore_best_weights=True  # Restore model weights to the best epoch\n",
        ")\n",
        "\n",
        "# Now, we can include the early_stopping callback when fitting your model\n",
        "training_history = model.fit(\n",
        "    x=training_set,\n",
        "    validation_data=validation_set,\n",
        "    epochs=32,\n",
        "    callbacks=[early_stopping]  # Include the early_stopping callback\n",
        ")"
      ],
      "metadata": {
        "colab": {
          "base_uri": "https://localhost:8080/"
        },
        "id": "1CYivippZcja",
        "outputId": "0a85be87-daf7-4198-b2f7-f2a3ebe65294"
      },
      "execution_count": null,
      "outputs": [
        {
          "output_type": "stream",
          "name": "stdout",
          "text": [
            "Epoch 1/32\n",
            "23/23 [==============================] - 260s 10s/step - loss: 5.6362 - accuracy: 0.0852 - val_loss: 5.5124 - val_accuracy: 0.0730\n",
            "Epoch 2/32\n",
            "23/23 [==============================] - 205s 9s/step - loss: 3.5452 - accuracy: 0.2961 - val_loss: 4.1256 - val_accuracy: 0.2584\n",
            "Epoch 3/32\n",
            "23/23 [==============================] - 201s 9s/step - loss: 2.5795 - accuracy: 0.4581 - val_loss: 3.1916 - val_accuracy: 0.3989\n",
            "Epoch 4/32\n",
            "23/23 [==============================] - 202s 9s/step - loss: 1.8379 - accuracy: 0.6201 - val_loss: 2.5026 - val_accuracy: 0.5674\n",
            "Epoch 5/32\n",
            "23/23 [==============================] - 189s 8s/step - loss: 1.4173 - accuracy: 0.7193 - val_loss: 2.0340 - val_accuracy: 0.6742\n",
            "Epoch 6/32\n",
            "23/23 [==============================] - 195s 8s/step - loss: 1.0552 - accuracy: 0.7612 - val_loss: 1.8972 - val_accuracy: 0.6742\n",
            "Epoch 7/32\n",
            "23/23 [==============================] - 196s 8s/step - loss: 0.7302 - accuracy: 0.8240 - val_loss: 1.7143 - val_accuracy: 0.7472\n",
            "Epoch 8/32\n",
            "23/23 [==============================] - 197s 8s/step - loss: 0.6112 - accuracy: 0.8547 - val_loss: 1.5269 - val_accuracy: 0.7697\n",
            "Epoch 9/32\n",
            "23/23 [==============================] - 199s 9s/step - loss: 0.5363 - accuracy: 0.8673 - val_loss: 1.4160 - val_accuracy: 0.7921\n",
            "Epoch 10/32\n",
            "23/23 [==============================] - 192s 8s/step - loss: 0.4382 - accuracy: 0.8869 - val_loss: 1.5959 - val_accuracy: 0.7584\n",
            "Epoch 11/32\n",
            "23/23 [==============================] - 189s 8s/step - loss: 0.3470 - accuracy: 0.9162 - val_loss: 1.6016 - val_accuracy: 0.7753\n",
            "Epoch 12/32\n",
            "23/23 [==============================] - 185s 8s/step - loss: 0.3548 - accuracy: 0.9134 - val_loss: 1.5237 - val_accuracy: 0.7865\n",
            "Epoch 13/32\n",
            "23/23 [==============================] - 182s 8s/step - loss: 0.2553 - accuracy: 0.9385 - val_loss: 1.4815 - val_accuracy: 0.7978\n",
            "Epoch 14/32\n",
            "23/23 [==============================] - 196s 8s/step - loss: 0.2764 - accuracy: 0.9274 - val_loss: 1.6316 - val_accuracy: 0.7921\n"
          ]
        }
      ]
    },
    {
      "cell_type": "code",
      "source": [
        "# Evaluating Model\n",
        "#Training set Accuracy\n",
        "train_loss, train_acc = model.evaluate(training_set)\n",
        "print('Training accuracy:', train_acc)"
      ],
      "metadata": {
        "colab": {
          "base_uri": "https://localhost:8080/"
        },
        "id": "R-DcppwEeE8I",
        "outputId": "8d1c75b0-f69a-4ae0-e17f-a3123db7a92c"
      },
      "execution_count": null,
      "outputs": [
        {
          "output_type": "stream",
          "name": "stdout",
          "text": [
            "23/23 [==============================] - 155s 7s/step - loss: 0.3848 - accuracy: 0.9385\n",
            "Training accuracy: 0.9385474920272827\n"
          ]
        }
      ]
    },
    {
      "cell_type": "code",
      "source": [
        "#Validation set Accuracy\n",
        "val_loss, val_acc = model.evaluate(validation_set)\n",
        "print('Validation accuracy:', val_acc)"
      ],
      "metadata": {
        "colab": {
          "base_uri": "https://localhost:8080/"
        },
        "id": "vg_u1bfWeNku",
        "outputId": "fc791858-5f5c-4141-bce0-083a01c72625"
      },
      "execution_count": null,
      "outputs": [
        {
          "output_type": "stream",
          "name": "stdout",
          "text": [
            "18/18 [==============================] - 34s 2s/step - loss: 1.4160 - accuracy: 0.7921\n",
            "Validation accuracy: 0.7921348214149475\n"
          ]
        }
      ]
    },
    {
      "cell_type": "code",
      "source": [
        "# Save model\n",
        "model.save('/content/drive/MyDrive/Project/Models/weight79_model.keras')"
      ],
      "metadata": {
        "id": "eOfzMCfcesyE"
      },
      "execution_count": null,
      "outputs": []
    },
    {
      "cell_type": "code",
      "source": [
        "import keras\n",
        "model = keras.models.load_model('/content/drive/MyDrive/Project/Models/weight79_model.keras')\n"
      ],
      "metadata": {
        "id": "uctU6N5qdPIc"
      },
      "execution_count": null,
      "outputs": []
    },
    {
      "cell_type": "code",
      "source": [
        "import numpy as np\n",
        "from sklearn.metrics import confusion_matrix, classification_report\n",
        "import tensorflow as tf"
      ],
      "metadata": {
        "id": "lJOPSlxbopEd"
      },
      "execution_count": null,
      "outputs": []
    },
    {
      "cell_type": "code",
      "source": [
        "# Load the saved model\n",
        "saved_model_path = '/content/drive/MyDrive/Project/Models/weight79_model.keras'  # Specify the path to your saved model\n",
        "loaded_model = tf.keras.models.load_model(saved_model_path)"
      ],
      "metadata": {
        "id": "9jzFvCH8ov-b"
      },
      "execution_count": null,
      "outputs": []
    },
    {
      "cell_type": "code",
      "source": [
        "# Initialize lists to store true and predicted labels\n",
        "true_labels = []\n",
        "predicted_labels = []"
      ],
      "metadata": {
        "id": "-ijER9TAo_FD"
      },
      "execution_count": null,
      "outputs": []
    },
    {
      "cell_type": "code",
      "source": [
        "\n",
        "# Iterate through the validation dataset and collect true and predicted labels\n",
        "for images, labels in validation_set:\n",
        "    true_labels.extend(np.argmax(labels, axis=1))  # Extract true labels\n",
        "    predictions = loaded_model.predict(images)  # Predict labels\n",
        "    predicted_labels.extend(np.argmax(predictions, axis=1))"
      ],
      "metadata": {
        "colab": {
          "base_uri": "https://localhost:8080/"
        },
        "id": "Agsp1C-EpDSx",
        "outputId": "6bcfd454-dd79-46ff-a49f-8e344b76f219"
      },
      "execution_count": null,
      "outputs": [
        {
          "output_type": "stream",
          "name": "stdout",
          "text": [
            "1/1 [==============================] - 3s 3s/step\n",
            "1/1 [==============================] - 2s 2s/step\n",
            "1/1 [==============================] - 2s 2s/step\n",
            "1/1 [==============================] - 3s 3s/step\n",
            "1/1 [==============================] - 2s 2s/step\n",
            "1/1 [==============================] - 2s 2s/step\n",
            "1/1 [==============================] - 2s 2s/step\n",
            "1/1 [==============================] - 2s 2s/step\n",
            "1/1 [==============================] - 3s 3s/step\n",
            "1/1 [==============================] - 2s 2s/step\n",
            "1/1 [==============================] - 2s 2s/step\n",
            "1/1 [==============================] - 2s 2s/step\n",
            "1/1 [==============================] - 2s 2s/step\n",
            "1/1 [==============================] - 2s 2s/step\n",
            "1/1 [==============================] - 3s 3s/step\n",
            "1/1 [==============================] - 2s 2s/step\n",
            "1/1 [==============================] - 2s 2s/step\n",
            "1/1 [==============================] - 1s 1s/step\n"
          ]
        }
      ]
    },
    {
      "cell_type": "code",
      "source": [
        "# Compute the confusion matrix\n",
        "confusion = confusion_matrix(true_labels, predicted_labels)"
      ],
      "metadata": {
        "id": "6IwyHop1pSL2"
      },
      "execution_count": null,
      "outputs": []
    },
    {
      "cell_type": "code",
      "source": [
        "# Print the confusion matrix\n",
        "print(\"Confusion Matrix:\")\n",
        "print(confusion)"
      ],
      "metadata": {
        "colab": {
          "base_uri": "https://localhost:8080/"
        },
        "id": "issgmSLopXxh",
        "outputId": "2d26a226-d676-4722-ff88-64578d3e7bb8"
      },
      "execution_count": null,
      "outputs": [
        {
          "output_type": "stream",
          "name": "stdout",
          "text": [
            "Confusion Matrix:\n",
            "[[ 0  0  0 ...  0  0  0]\n",
            " [ 0  0  0 ...  0  0  0]\n",
            " [ 0  0  0 ...  0  0  0]\n",
            " ...\n",
            " [ 0  0  0 ...  0  0  0]\n",
            " [ 0  0  1 ...  0  2  0]\n",
            " [ 0  0  0 ...  0  0 17]]\n"
          ]
        }
      ]
    },
    {
      "cell_type": "code",
      "source": [
        "# Generate class names based on the number of unique classes\n",
        "class_names = [str(i) for i in range(max(max(true_labels), max(predicted_labels)) + 1)]\n"
      ],
      "metadata": {
        "id": "Z7efkLRSpatv"
      },
      "execution_count": null,
      "outputs": []
    },
    {
      "cell_type": "code",
      "source": [
        "# Print a classification report with class names\n",
        "report = classification_report(true_labels, predicted_labels, labels=class_names)\n",
        "print(\"Classification Report:\")\n",
        "print(report)"
      ],
      "metadata": {
        "colab": {
          "base_uri": "https://localhost:8080/"
        },
        "id": "OofCEs7ppjBg",
        "outputId": "9269c851-4a07-4c5e-bf18-7eb0c1d93650"
      },
      "execution_count": null,
      "outputs": [
        {
          "output_type": "stream",
          "name": "stdout",
          "text": [
            "Classification Report:\n",
            "              precision    recall  f1-score   support\n",
            "\n",
            "           0       0.00      0.00      0.00         0\n",
            "           1       0.00      0.00      0.00         0\n",
            "           2       0.00      0.00      0.00         0\n",
            "           3       0.00      0.00      0.00         0\n",
            "           4       0.00      0.00      0.00         0\n",
            "           5       0.00      0.00      0.00         0\n",
            "           6       0.00      0.00      0.00         0\n",
            "           7       0.00      0.00      0.00         0\n",
            "           8       0.00      0.00      0.00         0\n",
            "           9       0.00      0.00      0.00         0\n",
            "          10       0.00      0.00      0.00         0\n",
            "          11       0.00      0.00      0.00         0\n",
            "          12       0.00      0.00      0.00         0\n",
            "          13       0.00      0.00      0.00         0\n",
            "          14       0.00      0.00      0.00         0\n",
            "          15       0.00      0.00      0.00         0\n",
            "          16       0.00      0.00      0.00         0\n",
            "          17       0.00      0.00      0.00         0\n",
            "          18       0.00      0.00      0.00         0\n",
            "          19       0.00      0.00      0.00         0\n",
            "          20       0.00      0.00      0.00         0\n",
            "          21       0.00      0.00      0.00         0\n",
            "          22       0.00      0.00      0.00         0\n",
            "          23       0.00      0.00      0.00         0\n",
            "          24       0.00      0.00      0.00         0\n",
            "          25       0.00      0.00      0.00         0\n",
            "          26       0.00      0.00      0.00         0\n",
            "          27       0.00      0.00      0.00         0\n",
            "          28       0.00      0.00      0.00         0\n",
            "          29       0.00      0.00      0.00         0\n",
            "          30       0.00      0.00      0.00         0\n",
            "          31       0.00      0.00      0.00         0\n",
            "          32       0.00      0.00      0.00         0\n",
            "          33       0.00      0.00      0.00         0\n",
            "          34       0.00      0.00      0.00         0\n",
            "          35       0.00      0.00      0.00         0\n",
            "          36       0.00      0.00      0.00         0\n",
            "          37       0.00      0.00      0.00         0\n",
            "          38       0.00      0.00      0.00         0\n",
            "          39       0.00      0.00      0.00         0\n",
            "          40       0.00      0.00      0.00         0\n",
            "          41       0.00      0.00      0.00         0\n",
            "          42       0.00      0.00      0.00         0\n",
            "          43       0.00      0.00      0.00         0\n",
            "          44       0.00      0.00      0.00         0\n",
            "          45       0.00      0.00      0.00         0\n",
            "          46       0.00      0.00      0.00         0\n",
            "          47       0.00      0.00      0.00         0\n",
            "          48       0.00      0.00      0.00         0\n",
            "          49       0.00      0.00      0.00         0\n",
            "          50       0.00      0.00      0.00         0\n",
            "          51       0.00      0.00      0.00         0\n",
            "          52       0.00      0.00      0.00         0\n",
            "          53       0.00      0.00      0.00         0\n",
            "          54       0.00      0.00      0.00         0\n",
            "          55       0.00      0.00      0.00         0\n",
            "          56       0.00      0.00      0.00         0\n",
            "          57       0.00      0.00      0.00         0\n",
            "          58       0.00      0.00      0.00         0\n",
            "          59       0.00      0.00      0.00         0\n",
            "          60       0.00      0.00      0.00         0\n",
            "          61       0.00      0.00      0.00         0\n",
            "          62       0.00      0.00      0.00         0\n",
            "          63       0.00      0.00      0.00         0\n",
            "          64       0.00      0.00      0.00         0\n",
            "          65       0.00      0.00      0.00         0\n",
            "          66       0.00      0.00      0.00         0\n",
            "          67       0.00      0.00      0.00         0\n",
            "          68       0.00      0.00      0.00         0\n",
            "          69       0.00      0.00      0.00         0\n",
            "          70       0.00      0.00      0.00         0\n",
            "          71       0.00      0.00      0.00         0\n",
            "          72       0.00      0.00      0.00         0\n",
            "          73       0.00      0.00      0.00         0\n",
            "          74       0.00      0.00      0.00         0\n",
            "          75       0.00      0.00      0.00         0\n",
            "          76       0.00      0.00      0.00         0\n",
            "          77       0.00      0.00      0.00         0\n",
            "          78       0.00      0.00      0.00         0\n",
            "          79       0.00      0.00      0.00         0\n",
            "          80       0.00      0.00      0.00         0\n",
            "          81       0.00      0.00      0.00         0\n",
            "          82       0.00      0.00      0.00         0\n",
            "          83       0.00      0.00      0.00         0\n",
            "          84       0.00      0.00      0.00         0\n",
            "          85       0.00      0.00      0.00         0\n",
            "          86       0.00      0.00      0.00         0\n",
            "          87       0.00      0.00      0.00         0\n",
            "          88       0.00      0.00      0.00         0\n",
            "          89       0.00      0.00      0.00         0\n",
            "          90       0.00      0.00      0.00         0\n",
            "          91       0.00      0.00      0.00         0\n",
            "          92       0.00      0.00      0.00         0\n",
            "          93       0.00      0.00      0.00         0\n",
            "          94       0.00      0.00      0.00         0\n",
            "          95       0.00      0.00      0.00         0\n",
            "          96       0.00      0.00      0.00         0\n",
            "          97       0.00      0.00      0.00         0\n",
            "          98       0.00      0.00      0.00         0\n",
            "          99       0.00      0.00      0.00         0\n",
            "         100       0.00      0.00      0.00         0\n",
            "         101       0.00      0.00      0.00         0\n",
            "         102       0.00      0.00      0.00         0\n",
            "         103       0.00      0.00      0.00         0\n",
            "         104       0.00      0.00      0.00         0\n",
            "         105       0.00      0.00      0.00         0\n",
            "         106       0.00      0.00      0.00         0\n",
            "         107       0.00      0.00      0.00         0\n",
            "         108       0.00      0.00      0.00         0\n",
            "         109       0.00      0.00      0.00         0\n",
            "         110       0.00      0.00      0.00         0\n",
            "         111       0.00      0.00      0.00         0\n",
            "         112       0.00      0.00      0.00         0\n",
            "         113       0.83      0.75      0.79        20\n",
            "         114       1.00      1.00      1.00         2\n",
            "         115       0.00      0.00      0.00         1\n",
            "         116       1.00      1.00      1.00         3\n",
            "         117       1.00      1.00      1.00         1\n",
            "         118       1.00      1.00      1.00         3\n",
            "         119       1.00      0.50      0.67         2\n",
            "         120       0.00      0.00      0.00         1\n",
            "         121       1.00      1.00      1.00         1\n",
            "         122       1.00      1.00      1.00         2\n",
            "         123       1.00      1.00      1.00         1\n",
            "         124       1.00      1.00      1.00         1\n",
            "         125       0.95      0.67      0.78        27\n",
            "         126       1.00      1.00      1.00         1\n",
            "         127       0.00      0.00      0.00         1\n",
            "         128       1.00      0.67      0.80         3\n",
            "         129       1.00      1.00      1.00         1\n",
            "         130       1.00      1.00      1.00         1\n",
            "         131       1.00      1.00      1.00         1\n",
            "         132       1.00      1.00      1.00         2\n",
            "         133       1.00      1.00      1.00         1\n",
            "         134       1.00      1.00      1.00         1\n",
            "         135       1.00      1.00      1.00         1\n",
            "         136       1.00      1.00      1.00         3\n",
            "         137       0.94      0.89      0.91        18\n",
            "         138       1.00      1.00      1.00         1\n",
            "         139       0.00      0.00      0.00         1\n",
            "         140       1.00      1.00      1.00         1\n",
            "         141       0.00      0.00      0.00         1\n",
            "         142       1.00      1.00      1.00         1\n",
            "         143       1.00      1.00      1.00         1\n",
            "         144       0.80      0.80      0.80         5\n",
            "         145       1.00      1.00      1.00         1\n",
            "         146       1.00      1.00      1.00         1\n",
            "         147       0.95      0.90      0.92        20\n",
            "         148       0.00      0.00      0.00         1\n",
            "         149       0.00      0.00      0.00         1\n",
            "         150       1.00      1.00      1.00         1\n",
            "         151       1.00      1.00      1.00         1\n",
            "         152       0.00      0.00      0.00         1\n",
            "         153       1.00      1.00      1.00         1\n",
            "         154       1.00      0.80      0.89        15\n",
            "         155       1.00      1.00      1.00         1\n",
            "         156       0.00      0.00      0.00         1\n",
            "         157       0.00      0.00      0.00         1\n",
            "         158       1.00      0.67      0.80         3\n",
            "         159       1.00      0.89      0.94        19\n",
            "\n",
            "   micro avg       0.79      0.79      0.79       178\n",
            "   macro avg       0.23      0.22      0.22       178\n",
            "weighted avg       0.90      0.79      0.84       178\n",
            "\n"
          ]
        },
        {
          "output_type": "stream",
          "name": "stderr",
          "text": [
            "/usr/local/lib/python3.10/dist-packages/sklearn/metrics/_classification.py:1344: UndefinedMetricWarning: Precision and F-score are ill-defined and being set to 0.0 in labels with no predicted samples. Use `zero_division` parameter to control this behavior.\n",
            "  _warn_prf(average, modifier, msg_start, len(result))\n",
            "/usr/local/lib/python3.10/dist-packages/sklearn/metrics/_classification.py:1344: UndefinedMetricWarning: Recall and F-score are ill-defined and being set to 0.0 in labels with no true samples. Use `zero_division` parameter to control this behavior.\n",
            "  _warn_prf(average, modifier, msg_start, len(result))\n",
            "/usr/local/lib/python3.10/dist-packages/sklearn/metrics/_classification.py:1344: UndefinedMetricWarning: Precision and F-score are ill-defined and being set to 0.0 in labels with no predicted samples. Use `zero_division` parameter to control this behavior.\n",
            "  _warn_prf(average, modifier, msg_start, len(result))\n",
            "/usr/local/lib/python3.10/dist-packages/sklearn/metrics/_classification.py:1344: UndefinedMetricWarning: Recall and F-score are ill-defined and being set to 0.0 in labels with no true samples. Use `zero_division` parameter to control this behavior.\n",
            "  _warn_prf(average, modifier, msg_start, len(result))\n",
            "/usr/local/lib/python3.10/dist-packages/sklearn/metrics/_classification.py:1344: UndefinedMetricWarning: Precision and F-score are ill-defined and being set to 0.0 in labels with no predicted samples. Use `zero_division` parameter to control this behavior.\n",
            "  _warn_prf(average, modifier, msg_start, len(result))\n",
            "/usr/local/lib/python3.10/dist-packages/sklearn/metrics/_classification.py:1344: UndefinedMetricWarning: Recall and F-score are ill-defined and being set to 0.0 in labels with no true samples. Use `zero_division` parameter to control this behavior.\n",
            "  _warn_prf(average, modifier, msg_start, len(result))\n"
          ]
        }
      ]
    },
    {
      "cell_type": "code",
      "source": [
        "# Plot the confusion matrix\n",
        "plt.figure(figsize=(10, 8))\n",
        "plt.imshow(confusion, cmap='Blues', interpolation='nearest')\n",
        "plt.title('Confusion Matrix')\n",
        "plt.colorbar()\n",
        "tick_marks = np.arange(len(class_names))\n",
        "plt.xticks(tick_marks, class_names, rotation=90)\n",
        "plt.yticks(tick_marks, class_names)\n",
        "plt.tight_layout()\n",
        "plt.ylabel('True label')\n",
        "plt.xlabel('Predicted label')\n",
        "plt.show()"
      ],
      "metadata": {
        "colab": {
          "base_uri": "https://localhost:8080/",
          "height": 826
        },
        "id": "ajVluqLEpo1E",
        "outputId": "7880fdd1-4d1b-4a88-9adf-7cb45ee3dfd1"
      },
      "execution_count": null,
      "outputs": [
        {
          "output_type": "display_data",
          "data": {
            "text/plain": [
              "<Figure size 1000x800 with 2 Axes>"
            ],
            "image/png": "[encoded data removed]"
          },
          "metadata": {}
        }
      ]
    }
  ]
}