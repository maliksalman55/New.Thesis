{
  "nbformat": 4,
  "nbformat_minor": 0,
  "metadata": {
    "colab": {
      "provenance": [],
      "gpuType": "T4",
      "authorship_tag": "ABX9TyMwiDX6XYCPc7LXN4vunSWS",
      "include_colab_link": true
    },
    "kernelspec": {
      "name": "python3",
      "display_name": "Python 3"
    },
    "language_info": {
      "name": "python"
    },
    "accelerator": "GPU"
  },
  "cells": [
    {
      "cell_type": "markdown",
      "metadata": {
        "id": "view-in-github",
        "colab_type": "text"
      },
      "source": [
        "<a href=\"https://colab.research.google.com/github/maliksalman55/Thesis/blob/main/New_Dataset_Generate.ipynb\" target=\"_parent\"><img src=\"https://colab.research.google.com/assets/colab-badge.svg\" alt=\"Open In Colab\"/></a>"
      ]
    },
    {
      "cell_type": "code",
      "execution_count": null,
      "metadata": {
        "colab": {
          "base_uri": "https://localhost:8080/"
        },
        "id": "FeiRFqyqttds",
        "outputId": "cd8b0282-f809-467f-f818-4f00b0adffae"
      },
      "outputs": [
        {
          "output_type": "stream",
          "name": "stdout",
          "text": [
            "Mounted at /content/drive\n"
          ]
        }
      ],
      "source": [
        "from google.colab import drive\n",
        "drive.mount ('/content/drive')"
      ]
    },
    {
      "cell_type": "code",
      "source": [
        "import cv2\n",
        "import numpy as np\n",
        "import os\n",
        "import shutil\n",
        "import math"
      ],
      "metadata": {
        "id": "u6eIj5_7u8pB"
      },
      "execution_count": null,
      "outputs": []
    },
    {
      "cell_type": "code",
      "source": [
        "src_path = '/content/drive/MyDrive/Project/kaggle.json'\n",
        "dest_directory = '/root/.kaggle/'"
      ],
      "metadata": {
        "id": "Jcm3f9Fqu-AT"
      },
      "execution_count": null,
      "outputs": []
    },
    {
      "cell_type": "code",
      "source": [
        "# Create the destination directory if it doesn't exist\n",
        "os.makedirs(dest_directory, exist_ok=True)"
      ],
      "metadata": {
        "id": "uI1m5SDju999"
      },
      "execution_count": null,
      "outputs": []
    },
    {
      "cell_type": "code",
      "source": [
        "# Copy the Kaggle JSON file to the destination\n",
        "shutil.copy(src_path, dest_directory)"
      ],
      "metadata": {
        "colab": {
          "base_uri": "https://localhost:8080/",
          "height": 35
        },
        "id": "PxzMLSolu936",
        "outputId": "860c6520-c1e9-488d-9f2c-6a1bb7e70649"
      },
      "execution_count": null,
      "outputs": [
        {
          "output_type": "execute_result",
          "data": {
            "text/plain": [
              "'/root/.kaggle/kaggle.json'"
            ],
            "application/vnd.google.colaboratory.intrinsic+json": {
              "type": "string"
            }
          },
          "metadata": {},
          "execution_count": 11
        }
      ]
    },
    {
      "cell_type": "code",
      "source": [
        "# run this for dataset download\n",
        "!kaggle datasets download -d markdaniellampa/fish-dataset"
      ],
      "metadata": {
        "colab": {
          "base_uri": "https://localhost:8080/"
        },
        "id": "E-x4Yhl3vEIO",
        "outputId": "8166ea26-bc93-4a83-a386-8c7f92650571"
      },
      "execution_count": null,
      "outputs": [
        {
          "output_type": "stream",
          "name": "stdout",
          "text": [
            "Downloading fish-dataset.zip to /content\n",
            " 99% 1.57G/1.58G [00:19<00:00, 41.7MB/s]\n",
            "100% 1.58G/1.58G [00:19<00:00, 86.4MB/s]\n"
          ]
        }
      ]
    },
    {
      "cell_type": "code",
      "source": [
        "# unzip download file\n",
        "import zipfile\n",
        "zip_ref = zipfile.ZipFile ('/content/fish-dataset.zip','r')\n",
        "zip_ref.extractall('/content')\n",
        "zip_ref.close()"
      ],
      "metadata": {
        "id": "1XaAOB0xvEFW"
      },
      "execution_count": null,
      "outputs": []
    },
    {
      "cell_type": "code",
      "source": [
        "# Define the directory containing our fish images\n",
        "train_dir = '/content/drive/MyDrive/Project/FishImgDataset/train'"
      ],
      "metadata": {
        "id": "HX6_jLOBvEDQ"
      },
      "execution_count": null,
      "outputs": []
    },
    {
      "cell_type": "code",
      "source": [
        "# Define the output directory for organized classes\n",
        "output_dir = '/content/drive/MyDrive/Project/FishImgDataset/w8dataset'  # Creating this directory to organize images\n"
      ],
      "metadata": {
        "id": "HhbdhmTJvEA6"
      },
      "execution_count": null,
      "outputs": []
    },
    {
      "cell_type": "code",
      "source": [
        "# Function to estimate weight from length and girth\n",
        "def estimate_weight(length_pixels, girth_pixels):\n",
        "    # Pixel-to-inch conversion factor (calibration factor)\n",
        "    pixel_to_inch_conversion = 0.1  # Example: 0.1 inch per pixel\n",
        "\n",
        "    # Convert pixel measurements to inches\n",
        "    length_in_inches = length_pixels * pixel_to_inch_conversion\n",
        "    girth_in_inches = girth_pixels * pixel_to_inch_conversion\n",
        "\n",
        "    # Calculate the weight using the formula for slender fish (e.g., trout, northern pike)\n",
        "    weight = (length_in_inches * girth_in_inches * girth_in_inches) / 900\n",
        "    return weight"
      ],
      "metadata": {
        "id": "-chznOBXvDxj"
      },
      "execution_count": null,
      "outputs": []
    },
    {
      "cell_type": "code",
      "source": [
        "# Iterate through subdirectories in the train directory\n",
        "for subdir in os.listdir(train_dir):\n",
        "    subdir_path = os.path.join(train_dir, subdir)\n",
        "\n",
        "    if os.path.isdir(subdir_path):\n",
        "        # Iterate through images in the subdirectory\n",
        "        for filename in os.listdir(subdir_path):\n",
        "            if any(filename.lower().endswith(ext) for ext in (\".jpg\", \".jpeg\", \".png\")):\n",
        "\n",
        "                image_path = os.path.join(subdir_path, filename)\n",
        "\n",
        "                # Load the fish image\n",
        "                image = cv2.imread(image_path)\n",
        "\n",
        "                if image is not None:\n",
        "                    # Applying image processing steps (segmentation, length, girth estimation, etc.)\n",
        "\n",
        "                    # Define coordinates for cropping (x, y, width, height)\n",
        "                    x, y, w, h = 5, 10, 400, 300  # Adjust these values as needed\n",
        "\n",
        "                    # Check if cropping region is within image boundaries\n",
        "                    if x >= 0 and y >= 0 and x + w <= image.shape[1] and y + h <= image.shape[0]:\n",
        "                        # Crop the fish region\n",
        "                        cropped_fish = image[y:y+h, x:x+w]\n",
        "\n",
        "                        # Continue with image segmentation\n",
        "                        # Convert the cropped image to grayscale for thresholding\n",
        "                        gray = cv2.cvtColor(cropped_fish, cv2.COLOR_BGR2GRAY)\n",
        "\n",
        "                        # Apply thresholding to segment the fish from the background\n",
        "                        _, binary_mask = cv2.threshold(gray, 100, 255, cv2.THRESH_BINARY)\n",
        "\n",
        "                        # Find contours in the binary mask\n",
        "                        contours, _ = cv2.findContours(binary_mask, cv2.RETR_EXTERNAL, cv2.CHAIN_APPROX_SIMPLE)\n",
        "\n",
        "                        if len(contours) > 0:\n",
        "                            # Find the largest contour (assuming it corresponds to the fish)\n",
        "                            largest_contour = max(contours, key=cv2.contourArea)\n",
        "\n",
        "                            # Create a mask for the fish region\n",
        "                            mask = np.zeros_like(binary_mask)\n",
        "                            cv2.drawContours(mask, [largest_contour], 0, 255, -1)\n",
        "\n",
        "                            # Bitwise AND to extract the fish region from the original image\n",
        "                            segmented_fish = cv2.bitwise_and(cropped_fish, cropped_fish, mask=mask)\n",
        "\n",
        "                            # Enhance Contrast and Brightness\n",
        "                            alpha = 1.5  # Contrast control\n",
        "                            beta = 30    # Brightness control\n",
        "\n",
        "                            enhanced_fish = cv2.convertScaleAbs(cropped_fish, alpha=alpha, beta=beta)\n",
        "\n",
        "                            # Convert the segmented fish image to grayscale for edge detection\n",
        "                            gray = cv2.cvtColor(segmented_fish, cv2.COLOR_BGR2GRAY)\n",
        "\n",
        "                            # Apply Canny edge detection\n",
        "                            edges = cv2.Canny(gray, 50, 150)\n",
        "\n",
        "                            # Find contours in the edge-detected image\n",
        "                            contours, _ = cv2.findContours(edges, cv2.RETR_EXTERNAL, cv2.CHAIN_APPROX_SIMPLE)\n",
        "\n",
        "                            if len(contours) > 0:\n",
        "                                # Find the contour with the maximum length (assuming it corresponds to the fish)\n",
        "                                max_contour = max(contours, key=lambda x: cv2.arcLength(x, closed=True))\n",
        "\n",
        "                                # Measure the length of the contour\n",
        "                                length = cv2.arcLength(max_contour, closed=True)\n",
        "\n",
        "                                # Estimate girth and weight\n",
        "                                #estimating girth\n",
        "                                largest_contour = max(contours, key=cv2.contourArea)\n",
        "                                girth_area = cv2.contourArea(largest_contour)\n",
        "                                diameter = math.sqrt((4 * girth_area) / math.pi) #2*r\n",
        "                                girth = math.pi * diameter\n",
        "\n",
        "                                # Estimate weight\n",
        "                                weight = estimate_weight(length, girth)\n",
        "\n",
        "                                # Determine the folder based on the estimated weight (rounding to the nearest integer)\n",
        "                                weight_folder = os.path.join(output_dir, f\"{round(weight)}_pounds\")\n",
        "                                os.makedirs(weight_folder, exist_ok=True)\n",
        "\n",
        "                                # Move the image to the appropriate folder\n",
        "                                destination_path = os.path.join(weight_folder, filename)\n",
        "                                shutil.move(image_path, destination_path)\n",
        "\n",
        "                                print(f\"Processed: {filename} | Estimated Weight: {weight} pounds\")\n",
        "\n",
        "print(\"Processing complete. Images organized by weight.\")"
      ],
      "metadata": {
        "colab": {
          "base_uri": "https://localhost:8080/"
        },
        "id": "hLjumzId5hqM",
        "outputId": "cd11420c-ebfc-450a-ce07-2fa7b3f028f6"
      },
      "execution_count": null,
      "outputs": [
        {
          "output_type": "stream",
          "name": "stdout",
          "text": [
            "Processed: 1379993778_114.79.18.246-4285884.jpeg | Estimated Weight: 1.2266403730927333 pounds\n",
            "Processed: 1395692377_190.80.8.9-2959810.jpeg | Estimated Weight: 0.42755643618185823 pounds\n",
            "Processed: 1369546354_182.178.75.77-567248.jpeg | Estimated Weight: 37.175463168304255 pounds\n",
            "Processed: 1383035272_110.143.155.185-1813099.jpeg | Estimated Weight: 17.936484094814535 pounds\n",
            "Processed: 1406026196633Ex7bofVGQQZcvfA9-4207811.jpeg | Estimated Weight: 55.064955604876495 pounds\n",
            "Processed: 14060261958868RI79raSey4Sqa8d-3811978.jpeg | Estimated Weight: 6.182674799436497 pounds\n",
            "Processed: 1371184733_182.178.7.254-5957736.jpeg | Estimated Weight: 19.136866001994324 pounds\n",
            "Processed: 1341932090_89.244.87.39-4646055.jpeg | Estimated Weight: 36.39189571085062 pounds\n",
            "Processed: 1363195128_182.178.27.53-3485615.jpeg | Estimated Weight: 2.9449725182672926 pounds\n",
            "Processed: 1379743278_181.66.101.43-832254.jpeg | Estimated Weight: 1.1963831670438114 pounds\n",
            "Processed: 1341932227_89.244.87.39-2340584.jpeg | Estimated Weight: 8.434094967215625 pounds\n",
            "Processed: 1365249593_182.178.18.56-462567.jpeg | Estimated Weight: 207.33852110248 pounds\n",
            "Processed: 1371184699_182.178.7.254-3641352.jpeg | Estimated Weight: 2.2120892936883503 pounds\n",
            "Processed: 1406026196139sSNDzjxfAUl0KrEp-1974334.jpeg | Estimated Weight: 355.92817725002897 pounds\n",
            "Processed: 1406026196418d6J9Coio7oWQPxXw-7958494.jpeg | Estimated Weight: 158.5946427449412 pounds\n",
            "Processed: 1339434984_201.202.255.194-5526598.jpeg | Estimated Weight: 0.983629738958782 pounds\n",
            "Processed: 1356029022_190.131.192.14-2816858.jpeg | Estimated Weight: 1.266528795901732 pounds\n",
            "Processed: 1374057240_203.190.147.146-2906004.jpeg | Estimated Weight: 1.1166346763674244 pounds\n",
            "Processed: IMG_0961-4473621.jpeg | Estimated Weight: 198.86902811765611 pounds\n",
            "Processed: Ornil_u8-3385333.jpeg | Estimated Weight: 19.878882436458063 pounds\n",
            "Processed: Nirwana%28a%29-6949535.jpeg | Estimated Weight: 10.272664449671394 pounds\n",
            "Processed: Ornil_u4-2727233.jpeg | Estimated Weight: 108.88860228097595 pounds\n",
            "Processed: Ornil_u3-4440409.jpeg | Estimated Weight: 38.33014948085349 pounds\n",
            "Processed: IMG_3318-4405521.jpeg | Estimated Weight: 0.22114346381689137 pounds\n",
            "Processed: Ornil_m1-9160524.jpeg | Estimated Weight: 117.70960382514302 pounds\n",
            "Processed: Ornil_ud-5910255.jpeg | Estimated Weight: 1741.329829102879 pounds\n",
            "Processed: Ornil_u9-5389789.jpeg | Estimated Weight: 84.72486992488089 pounds\n",
            "Processed: DSC00922-3403485.jpeg | Estimated Weight: 245.6467307820829 pounds\n",
            "Processed: GRS_6194-66846.jpeg | Estimated Weight: 11.266398676818664 pounds\n",
            "Processed: Ornil_uf-8454491.jpeg | Estimated Weight: 2.2152209018630593 pounds\n",
            "Processed: IMG_3281-7901214.jpeg | Estimated Weight: 3.006603532761401 pounds\n",
            "Processed: Ornil_m0-1603265.jpeg | Estimated Weight: 9.959156634254756 pounds\n",
            "Processed: NILOTICA-3327440.jpeg | Estimated Weight: 40.1632994682188 pounds\n",
            "Processed: 1533345525_162.158.22.102-1778353.jpeg | Estimated Weight: 16.90441129304289 pounds\n",
            "Processed: Oreochromisvariabilis-8144410.jpeg | Estimated Weight: 2.330749678450464 pounds\n",
            "Processed: GRS_6137-1043184.jpeg | Estimated Weight: 17.80926227514866 pounds\n",
            "Processed: 1533223855_108.162.229.54-53706.jpeg | Estimated Weight: 25.66480952120574 pounds\n",
            "Processed: Nirwana%28b%29-8765534.jpeg | Estimated Weight: 10.509781247657779 pounds\n",
            "Processed: Ornil_u6-9810332.jpeg | Estimated Weight: 69.04867271135026 pounds\n",
            "Processed: Ornil_ue-733640.jpeg | Estimated Weight: 171.93664210787256 pounds\n",
            "Processed: NileTilapia-8826879.jpeg | Estimated Weight: 1.6655765977352237 pounds\n",
            "Processed: Ornil_u7-6999742.jpeg | Estimated Weight: 36.63177343544787 pounds\n",
            "Processed: 8-9995850.jpeg | Estimated Weight: 5.540845013838288 pounds\n",
            "Processed: Ornil_ub-688236.jpeg | Estimated Weight: 36.64851900347588 pounds\n",
            "Processed: Oreochromisvariabilis1-5440056.jpeg | Estimated Weight: 14.120519693286766 pounds\n",
            "Processed: GRS_6254-1-3884524.jpeg | Estimated Weight: 1565.3358362308463 pounds\n",
            "Processed: Picture-3692902.jpeg | Estimated Weight: 82.69886582706141 pounds\n",
            "Processed: GRS_6258-5972199.jpeg | Estimated Weight: 214.5887202164095 pounds\n",
            "Processed: DSC00840-4013920.jpeg | Estimated Weight: 7444.518260538018 pounds\n",
            "Processed: Ornil_f0-5920220.jpeg | Estimated Weight: 23.82546124292743 pounds\n",
            "Processed: Ornil_ua-8217423.jpeg | Estimated Weight: 83.95847978417757 pounds\n",
            "Processed: mossambicus2-4248836.jpeg | Estimated Weight: 1083.4900155790206 pounds\n",
            "Processed: oreochromis_mossambicus_03-2450364.jpeg | Estimated Weight: 428.99163173803845 pounds\n",
            "Processed: ormos_u3-6999836.jpeg | Estimated Weight: 3.3090677829428334 pounds\n",
            "Processed: ormos_j0-2372419.jpeg | Estimated Weight: 1.9657583936622613 pounds\n",
            "Processed: niloticus-1094233.jpeg | Estimated Weight: 308.6439469427397 pounds\n",
            "Processed: oreochromis_mossambicus_04-6666082.jpeg | Estimated Weight: 27.619245182301793 pounds\n",
            "Processed: oraur_u0-880126.jpeg | Estimated Weight: 68.44436683900365 pounds\n",
            "Processed: mossambicus-4919829.jpeg | Estimated Weight: 236.58483160266073 pounds\n",
            "Processed: ormos_u2-1881145.jpeg | Estimated Weight: 2.2635161296243993 pounds\n",
            "Processed: oraur_m0-659118.jpeg | Estimated Weight: 26.912422147242136 pounds\n",
            "Processed: oreochromisaureus-40041.jpeg | Estimated Weight: 8.868385815944482 pounds\n",
            "Processed: oraur_u2-7461819.jpeg | Estimated Weight: 3.2249206998962903 pounds\n",
            "Processed: ormos_m4-1211462.jpeg | Estimated Weight: 2.0631982072765 pounds\n",
            "Processed: ormos_m1-3964942.jpeg | Estimated Weight: 138.18642238842415 pounds\n",
            "Processed: oreochromis_mossambicus_02-4640184.jpeg | Estimated Weight: 112.66426736726797 pounds\n",
            "Processed: ormos_f0-1679424.jpeg | Estimated Weight: 63.498907149876075 pounds\n",
            "Processed: fish%20in%20hand%201m-9492665.jpeg | Estimated Weight: 25.9650017828765 pounds\n",
            "Processed: Silver-Body (12).JPG | Estimated Weight: 0.0008775409663315006 pounds\n",
            "Processed: Silver-Body (11).JPG | Estimated Weight: 0.2824911596711243 pounds\n",
            "Processed: Silver-Body (10).JPG | Estimated Weight: 1.1197127670608518 pounds\n",
            "Processed: Silver-Body (17).JPG | Estimated Weight: 0.34302591019955253 pounds\n",
            "Processed: Silver-Body (13).JPG | Estimated Weight: 0.023325396056289107 pounds\n",
            "Processed: Silver-Body (15).JPG | Estimated Weight: 0.3440495918302643 pounds\n",
            "Processed: Silver-Body (16).JPG | Estimated Weight: 0.09499104682230439 pounds\n",
            "Processed: Silver-Body (14).JPG | Estimated Weight: 0.2043983378186938 pounds\n",
            "Processed: Silver-Body (2).JPG | Estimated Weight: 0.7158403634592637 pounds\n",
            "Processed: Silver-Body (18).JPG | Estimated Weight: 0.4324948411866246 pounds\n",
            "Processed: Silver-Body (22).JPG | Estimated Weight: 0.639193864780334 pounds\n",
            "Processed: Silver-Body (23).JPG | Estimated Weight: 0.17000376886761356 pounds\n",
            "Processed: Silver-Body (20).JPG | Estimated Weight: 0.029681869876379465 pounds\n",
            "Processed: Silver-Body (28).JPG | Estimated Weight: 0.12594835745091462 pounds\n",
            "Processed: Silver-Body (3).JPG | Estimated Weight: 0.08240093623987908 pounds\n",
            "Processed: Silver-Body (33).JPG | Estimated Weight: 0.37621484844176434 pounds\n",
            "Processed: Silver-Body (30).JPG | Estimated Weight: 0.13834534986479863 pounds\n",
            "Processed: Silver-Body (29).JPG | Estimated Weight: 0.00029590155754163715 pounds\n",
            "Processed: Silver-Body (31).JPG | Estimated Weight: 0.16624007763251863 pounds\n",
            "Processed: Silver-Body (32).JPG | Estimated Weight: 0.6830972455649114 pounds\n",
            "Processed: Silver-Body (36).JPG | Estimated Weight: 0.47485088324416064 pounds\n",
            "Processed: Silver-Body (34).JPG | Estimated Weight: 1.1913183957244264 pounds\n",
            "Processed: Silver-Body (37).JPG | Estimated Weight: 0.06737546037981586 pounds\n",
            "Processed: Silver-Body (35).JPG | Estimated Weight: 0.06899795726205057 pounds\n",
            "Processed: Silver-Body (40).JPG | Estimated Weight: 0.10727981274040076 pounds\n",
            "Processed: Silver-Body (39).JPG | Estimated Weight: 0.07326202048333608 pounds\n",
            "Processed: Silver-Body (4).JPG | Estimated Weight: 0.08599634140773349 pounds\n",
            "Processed: Silver-Body (38).JPG | Estimated Weight: 0.17744029396699376 pounds\n",
            "Processed: Silver-Body (46).JPG | Estimated Weight: 0.0 pounds\n",
            "Processed: Silver-Body (44).JPG | Estimated Weight: 0.11282323233553275 pounds\n",
            "Processed: Silver-Body (45).JPG | Estimated Weight: 0.0916011243589517 pounds\n",
            "Processed: Silver-Body (43).JPG | Estimated Weight: 0.31567596027396694 pounds\n",
            "Processed: Silver-Body (5).JPG | Estimated Weight: 0.153684535036671 pounds\n",
            "Processed: Silver-Body (7).JPG | Estimated Weight: 0.7071443201509643 pounds\n",
            "Processed: Silver-Body (8).JPG | Estimated Weight: 0.19160304699945532 pounds\n",
            "Processed: Silver-Body (6).JPG | Estimated Weight: 0.11387259314585126 pounds\n",
            "Processed: Silver-Body (9).JPG | Estimated Weight: 0.11431357546627774 pounds\n",
            "Processed: silver perch (13).jpeg | Estimated Weight: 0.046598807268853217 pounds\n",
            "Processed: silver perch (6).jpeg | Estimated Weight: 2.1152155567701043 pounds\n",
            "Processed: silver perch (12).jpeg | Estimated Weight: 23.923744786184578 pounds\n",
            "Processed: silver perch (1).jpeg | Estimated Weight: 0.1043886678578223 pounds\n",
            "Processed: silver perch (2).jpeg | Estimated Weight: 0.044742345919111276 pounds\n",
            "Processed: silver perch (8).jpeg | Estimated Weight: 0.2949564146153952 pounds\n",
            "Processed: silver perch (4).jpeg | Estimated Weight: 5.4761162585008405 pounds\n",
            "Processed: silver perch (14).jpeg | Estimated Weight: 0.10512376379429655 pounds\n",
            "Processed: silver perch (10).jpeg | Estimated Weight: 671.1886164209544 pounds\n",
            "Processed: silver perch (15).jpeg | Estimated Weight: 1.1896900657196239 pounds\n",
            "Processed: silver perch (3).jpeg | Estimated Weight: 8.63179914572694 pounds\n",
            "Processed: silver perch (17).jpeg | Estimated Weight: 0.3748968523485499 pounds\n",
            "Processed: silver perch (7).jpeg | Estimated Weight: 16.199049634714758 pounds\n",
            "Processed: silver perch (9).jpeg | Estimated Weight: 4.7367842770776125 pounds\n",
            "Processed: mudfish (51).JPG | Estimated Weight: 7.4228637351629745 pounds\n",
            "Processed: Catla-Body (10).JPG | Estimated Weight: 0.12670310734479262 pounds\n",
            "Processed: Catla-Body (11).JPG | Estimated Weight: 0.08588041362764634 pounds\n",
            "Processed: Catla-Body (12).JPG | Estimated Weight: 0.4667176964389965 pounds\n",
            "Processed: Catla-Body (13).JPG | Estimated Weight: 0.14098782906556306 pounds\n",
            "Processed: Catla-Body (18).JPG | Estimated Weight: 0.0008801068046962562 pounds\n",
            "Processed: Catla-Body (17).JPG | Estimated Weight: 0.16800802965150846 pounds\n",
            "Processed: Catla-Body (20).JPG | Estimated Weight: 0.6229316756818419 pounds\n",
            "Processed: Catla-Body (3).JPG | Estimated Weight: 0.6124751499829528 pounds\n",
            "Processed: Catla-Body (19).JPG | Estimated Weight: 0.031138413780278304 pounds\n",
            "Processed: Catla-Body (2).JPG | Estimated Weight: 0.010998183854201893 pounds\n",
            "Processed: Catla-Body (5).JPG | Estimated Weight: 0.007436740597382201 pounds\n",
            "Processed: Gulfaam-Body (38).JPG | Estimated Weight: 0.010358007680289669 pounds\n",
            "Processed: Gulfaam-Body (32).JPG | Estimated Weight: 0.09709556812203157 pounds\n",
            "Processed: Gulfaam-Body (37).JPG | Estimated Weight: 0.47785203385465175 pounds\n",
            "Processed: Gulfaam-Body (39).JPG | Estimated Weight: 0.22338914325793513 pounds\n",
            "Processed: Grass-Body (1).JPG | Estimated Weight: 0.813444939953391 pounds\n",
            "Processed: Grass-Body (3).JPG | Estimated Weight: 0.02623951392070094 pounds\n",
            "Processed: Grass-Body (11).JPG | Estimated Weight: 0.32323607593674675 pounds\n",
            "Processed: Grass-Body (10).JPG | Estimated Weight: 0.10526046288349322 pounds\n",
            "Processed: Grass-Body (4).JPG | Estimated Weight: 0.08628766722591989 pounds\n",
            "Processed: Grass-Body (6).JPG | Estimated Weight: 1.9817188554825664 pounds\n",
            "Processed: Gulfaam-Body (1).JPG | Estimated Weight: 0.01651183000576216 pounds\n",
            "Processed: Grass-Body (9).JPG | Estimated Weight: 0.014988188245057918 pounds\n",
            "Processed: Grass-Body (8).JPG | Estimated Weight: 0.0019330878804143415 pounds\n",
            "Processed: Grass-Body (5).JPG | Estimated Weight: 0.054816429906803105 pounds\n",
            "Processed: Gulfaam-Body (10).JPG | Estimated Weight: 0.0 pounds\n",
            "Processed: Gulfaam-Body (17).JPG | Estimated Weight: 0.028291560206924193 pounds\n",
            "Processed: Gulfaam-Body (18).JPG | Estimated Weight: 0.11685832076296226 pounds\n",
            "Processed: Gulfaam-Body (19).JPG | Estimated Weight: 0.1596957495881765 pounds\n",
            "Processed: Gulfaam-Body (21).JPG | Estimated Weight: 1.536916956693086 pounds\n",
            "Processed: Gulfaam-Body (23).JPG | Estimated Weight: 0.13540421631421923 pounds\n",
            "Processed: Gulfaam-Body (22).JPG | Estimated Weight: 0.006500833082701649 pounds\n",
            "Processed: Gulfaam-Body (2).JPG | Estimated Weight: 0.25122510351343685 pounds\n",
            "Processed: Gulfaam-Body (24).JPG | Estimated Weight: 0.013691037484347947 pounds\n",
            "Processed: Gulfaam-Body (25).JPG | Estimated Weight: 0.3464225941010113 pounds\n",
            "Processed: Gulfaam-Body (34).JPG | Estimated Weight: 0.03386243953787825 pounds\n",
            "Processed: Gulfaam-Body (40).JPG | Estimated Weight: 0.2560608438354473 pounds\n",
            "Processed: Gulfaam-Body (4).JPG | Estimated Weight: 9.703677922046853e-05 pounds\n",
            "Processed: Gulfaam-Body (41).JPG | Estimated Weight: 0.009114581745428549 pounds\n",
            "Processed: Gulfaam-Body (42).JPG | Estimated Weight: 0.20385435852208322 pounds\n",
            "Processed: Gulfaam-Body (45).JPG | Estimated Weight: 0.05779297405731002 pounds\n",
            "Processed: Gulfaam-Body (46).JPG | Estimated Weight: 0.002158644837409631 pounds\n",
            "Processed: Gulfaam-Body (7).JPG | Estimated Weight: 0.018539247771872835 pounds\n",
            "Processed: Gulfaam-Body (6).JPG | Estimated Weight: 0.19324889754325988 pounds\n",
            "Processing complete. Images organized by weight.\n"
          ]
        }
      ]
    }
  ]
}